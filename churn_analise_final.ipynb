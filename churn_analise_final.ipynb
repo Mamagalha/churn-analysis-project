{
 "cells": [
  {
   "cell_type": "markdown",
   "id": "fe9c9565",
   "metadata": {},
   "source": [
    "# 📌 Extração"
   ]
  },
  {
   "cell_type": "code",
   "execution_count": null,
   "id": "534aec54",
   "metadata": {},
   "outputs": [],
   "source": [
    "\n",
    "import pandas as pd\n",
    "\n",
    "# Leitura dos dados\n",
    "df = pd.read_csv('dados_churn.csv')\n",
    "\n",
    "# Visualização inicial\n",
    "df.head()\n"
   ]
  },
  {
   "cell_type": "markdown",
   "id": "f520dd7f",
   "metadata": {},
   "source": [
    "# 🔧 Transformação"
   ]
  },
  {
   "cell_type": "code",
   "execution_count": null,
   "id": "7e67f9f6",
   "metadata": {},
   "outputs": [],
   "source": [
    "\n",
    "# Informações gerais\n",
    "df.info()\n",
    "df.dtypes\n",
    "\n",
    "# Conversão de colunas numéricas\n",
    "df['Charges.Total'] = pd.to_numeric(df['Charges.Total'], errors='coerce')\n",
    "\n",
    "# Tratamento de nulos\n",
    "df.dropna(inplace=True)\n",
    "\n",
    "# Conversão de binários\n",
    "df['SeniorCitizen'] = df['SeniorCitizen'].map({0: 'No', 1: 'Yes'})\n",
    "\n",
    "# Variável derivada: gasto médio mensal\n",
    "df['AvgCharges'] = df['Charges.Total'] / df['tenure']\n"
   ]
  },
  {
   "cell_type": "markdown",
   "id": "b739702a",
   "metadata": {},
   "source": [
    "# 📊 Carga e análise"
   ]
  },
  {
   "cell_type": "code",
   "execution_count": null,
   "id": "165ab83d",
   "metadata": {},
   "outputs": [],
   "source": [
    "\n",
    "import seaborn as sns\n",
    "import matplotlib.pyplot as plt\n",
    "\n",
    "# Churn\n",
    "sns.countplot(data=df, x='Churn', palette='pastel')\n",
    "plt.title('Distribuição de Clientes por Churn')\n",
    "plt.show()\n",
    "\n",
    "# Tenure\n",
    "sns.histplot(data=df, x='tenure', hue='Churn', bins=30, kde=True)\n",
    "plt.title('Distribuição de Tempo de Contrato por Churn')\n",
    "plt.show()\n",
    "\n",
    "# Charges mensais\n",
    "sns.boxplot(data=df, x='Churn', y='Charges.Monthly', palette='coolwarm')\n",
    "plt.title('Distribuição de Gastos Mensais por Churn')\n",
    "plt.show()\n",
    "\n",
    "# Tipo de contrato\n",
    "sns.countplot(data=df, x='Contract', hue='Churn')\n",
    "plt.title('Tipo de Contrato vs Churn')\n",
    "plt.xticks(rotation=15)\n",
    "plt.show()\n"
   ]
  },
  {
   "cell_type": "markdown",
   "id": "3a3fefb7",
   "metadata": {},
   "source": [
    "# 📄 Relatório Final"
   ]
  },
  {
   "cell_type": "markdown",
   "id": "56c31ab1",
   "metadata": {},
   "source": [
    "\n",
    "## 🧭 Introdução\n",
    "\n",
    "Este projeto analisa o problema de evasão de clientes (churn) em uma empresa de telecom. O objetivo é identificar padrões de comportamento que levam os clientes a cancelar os serviços.\n",
    "\n",
    "## 🧹 Limpeza e Tratamento de Dados\n",
    "\n",
    "- Conversão de colunas para tipos corretos\n",
    "- Remoção de valores nulos\n",
    "- Transformação de dados binários\n",
    "- Criação de variável derivada de gasto médio mensal\n",
    "\n",
    "## 📊 Análise Exploratória\n",
    "\n",
    "- Maior churn entre contratos mensais e clientes com baixo tenure\n",
    "- Gasto mensal mais baixo está relacionado à evasão\n",
    "- Clientes sem serviços adicionais têm maior taxa de churn\n",
    "\n",
    "## 📌 Conclusões e Insights\n",
    "\n",
    "- Contratos mensais apresentam maior risco de evasão\n",
    "- Clientes nos primeiros meses exigem atenção especial\n",
    "- Serviços adicionais ajudam na retenção\n",
    "\n",
    "## 💡 Recomendações\n",
    "\n",
    "1. Estimular contratos mais longos\n",
    "2. Criar campanhas para clientes novos\n",
    "3. Oferecer pacotes de serviços combinados\n",
    "4. Identificar perfis de risco para ação proativa\n"
   ]
  }
 ],
 "metadata": {},
 "nbformat": 4,
 "nbformat_minor": 5
}